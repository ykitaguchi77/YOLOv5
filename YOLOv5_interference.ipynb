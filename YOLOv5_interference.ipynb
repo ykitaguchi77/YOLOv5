{
  "nbformat": 4,
  "nbformat_minor": 0,
  "metadata": {
    "colab": {
      "provenance": [],
      "authorship_tag": "ABX9TyO5QkqXzFm2B1n24z5oTUbv",
      "include_colab_link": true
    },
    "kernelspec": {
      "name": "python3",
      "display_name": "Python 3"
    },
    "language_info": {
      "name": "python"
    }
  },
  "cells": [
    {
      "cell_type": "markdown",
      "metadata": {
        "id": "view-in-github",
        "colab_type": "text"
      },
      "source": [
        "<a href=\"https://colab.research.google.com/github/ykitaguchi77/YOLOv5/blob/main/YOLOv5_interference.ipynb\" target=\"_parent\"><img src=\"https://colab.research.google.com/assets/colab-badge.svg\" alt=\"Open In Colab\"/></a>"
      ]
    },
    {
      "cell_type": "markdown",
      "source": [
        "#**YOLOv5 interference**"
      ],
      "metadata": {
        "id": "Un512TpLoNtQ"
      }
    },
    {
      "cell_type": "code",
      "execution_count": 6,
      "metadata": {
        "colab": {
          "base_uri": "https://localhost:8080/"
        },
        "id": "7AaT889joK1w",
        "outputId": "435fa716-a91a-4a59-d8a5-c04f7e5c4e80"
      },
      "outputs": [
        {
          "output_type": "stream",
          "name": "stderr",
          "text": [
            "Using cache found in /root/.cache/torch/hub/ultralytics_yolov5_master\n",
            "YOLOv5 🚀 2022-11-4 Python-3.7.15 torch-1.12.1+cu113 CPU\n",
            "\n",
            "Fusing layers... \n",
            "YOLOv5s summary: 213 layers, 7225885 parameters, 0 gradients\n",
            "Adding AutoShape... \n",
            "image 1/1: 720x1280 2 persons, 2 ties\n",
            "Speed: 339.8ms pre-process, 316.9ms inference, 1.1ms NMS per image at shape (1, 3, 384, 640)\n"
          ]
        }
      ],
      "source": [
        "import torch\n",
        "\n",
        "# Model\n",
        "model = torch.hub.load('ultralytics/yolov5', 'yolov5s', pretrained=True)  # or yolov5n - yolov5x6, custom\n",
        "\n",
        "# Images\n",
        "img = ['https://ultralytics.com/images/zidane.jpg']  # or file, Path, PIL, OpenCV, numpy, list\n",
        "\n",
        "# Inference\n",
        "results = model(img)\n",
        "\n",
        "# Results\n",
        "results.print()  # or .show(), .save(), .crop(), .pandas(), etc.\n",
        "#results.show()"
      ]
    },
    {
      "cell_type": "code",
      "source": [
        "objects = results.pandas().xyxy[0]"
      ],
      "metadata": {
        "id": "kFwX8eUuILDW"
      },
      "execution_count": 10,
      "outputs": []
    },
    {
      "cell_type": "code",
      "source": [
        "objects.name"
      ],
      "metadata": {
        "id": "Y4Y-F7uiIOLw",
        "outputId": "cd67eaf9-3250-4d8f-95b8-581b8173f0c9",
        "colab": {
          "base_uri": "https://localhost:8080/"
        }
      },
      "execution_count": 11,
      "outputs": [
        {
          "output_type": "execute_result",
          "data": {
            "text/plain": [
              "0    person\n",
              "1       tie\n",
              "2    person\n",
              "3       tie\n",
              "Name: name, dtype: object"
            ]
          },
          "metadata": {},
          "execution_count": 11
        }
      ]
    },
    {
      "cell_type": "code",
      "source": [
        "output = results.xyxy[0] #左上x, 左上y, 右下x, 右下y, confidence, \n",
        "maxconf_idx = torch.argmax(output, dim=0)[5] #confidenceが最大になる行番号\n",
        "print(output[maxconf_idx]) #confidenceが最大になる行番号を抜き出す\n"
      ],
      "metadata": {
        "id": "O37NNJCQKp9M",
        "outputId": "615882dd-8ce8-452e-9ed2-22d4fb4d8f49",
        "colab": {
          "base_uri": "https://localhost:8080/"
        }
      },
      "execution_count": 28,
      "outputs": [
        {
          "output_type": "stream",
          "name": "stdout",
          "text": [
            "tensor([4.42008e+02, 4.37522e+02, 4.96654e+02, 7.09974e+02, 6.75213e-01, 2.70000e+01])\n"
          ]
        }
      ]
    },
    {
      "cell_type": "code",
      "source": [
        "import os\n",
        "!git clone https://github.com/ultralytics/yolov5  # clone\n",
        "os.chdir(\"/content/yolov5\")\n",
        "!pip install -r requirements.txt  # install"
      ],
      "metadata": {
        "id": "CE0VeD9loxqv"
      },
      "execution_count": null,
      "outputs": []
    },
    {
      "cell_type": "code",
      "source": [
        "!python detect.py --source https://ultralytics.com/images/zidane.jpg"
      ],
      "metadata": {
        "id": "O0c32uKCoeqW"
      },
      "execution_count": null,
      "outputs": []
    },
    {
      "cell_type": "code",
      "source": [],
      "metadata": {
        "id": "aBzJW7OnofQa"
      },
      "execution_count": null,
      "outputs": []
    }
  ]
}