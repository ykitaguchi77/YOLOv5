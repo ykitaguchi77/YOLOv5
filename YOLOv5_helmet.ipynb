{
  "nbformat": 4,
  "nbformat_minor": 0,
  "metadata": {
    "colab": {
      "name": "Untitled5.ipynb",
      "provenance": [],
      "authorship_tag": "ABX9TyNvtkpbg2do5JuzrnDr1JEz",
      "include_colab_link": true
    },
    "kernelspec": {
      "name": "python3",
      "display_name": "Python 3"
    },
    "language_info": {
      "name": "python"
    },
    "accelerator": "GPU"
  },
  "cells": [
    {
      "cell_type": "markdown",
      "metadata": {
        "id": "view-in-github",
        "colab_type": "text"
      },
      "source": [
        "<a href=\"https://colab.research.google.com/github/ykitaguchi77/YOLOv5/blob/main/YOLOv5_helmet.ipynb\" target=\"_parent\"><img src=\"https://colab.research.google.com/assets/colab-badge.svg\" alt=\"Open In Colab\"/></a>"
      ]
    },
    {
      "cell_type": "code",
      "execution_count": 32,
      "metadata": {
        "colab": {
          "base_uri": "https://localhost:8080/"
        },
        "id": "mpAqx5k99Yx2",
        "outputId": "2fef55dd-7840-4c6f-b40e-fcb4be29985f"
      },
      "outputs": [
        {
          "output_type": "stream",
          "name": "stdout",
          "text": [
            "Setup complete. Using torch 1.12.1+cu113 _CudaDeviceProperties(name='Tesla T4', major=7, minor=5, total_memory=15109MB, multi_processor_count=40)\n"
          ]
        }
      ],
      "source": [
        "#ヘルメット画像の検出\n",
        "#https://qiita.com/DS27/items/6ae8c49569c1a55a0255\n",
        "\n",
        "import torch\n",
        "from IPython.display import Image, clear_output\n",
        "import os\n",
        "import shutil\n",
        "\n",
        "!git clone https://github.com/ultralytics/yolov5\n",
        "os.chdir(\"/content/yolov5\")\n",
        "%pip install -qr requirements.txt\n",
        "\n",
        "\n",
        "\n",
        "clear_output()\n",
        "print('Setup complete. Using torch %s %s' % (torch.__version__, torch.cuda.get_device_properties(0) if torch.cuda.is_available() else 'CPU'))\n",
        "\n",
        "# Setup complete. Using torch 1.9.0+cu102 _CudaDeviceProperties(name='Tesla T4', major=7, minor=5, total_memory=15109MB, multi_processor_count=40)"
      ]
    },
    {
      "cell_type": "code",
      "source": [
        "#動作確認\n",
        "!python detect.py --weights yolov5s.pt --img 640 --conf 0.25 --source data/images/\n",
        "Image(filename='runs/detect/exp/zidane.jpg', width=600)"
      ],
      "metadata": {
        "id": "bieC9GQT98tb"
      },
      "execution_count": null,
      "outputs": []
    },
    {
      "cell_type": "code",
      "source": [
        "from google.colab import drive\n",
        "drive.mount('/content/drive')\n",
        "\n",
        "#Hard_Hat_Workers（オープンデータセット）をcontentsフォルダにコピーしてyolov5内に展開する\n",
        "shutil.copy(\"/content/drive/MyDrive/Deep_learning/YOLOv5/Hard_Hat_Workers.v2-raw.yolov5pytorch.zip\", \"/content/Workers.zip\")\n",
        "!unzip /content/Workers.zip \n",
        "!rm /content/Workers.zip\n",
        "\n",
        "!ls /content/yolov5"
      ],
      "metadata": {
        "id": "fWi52tlv-Qnx",
        "outputId": "fccdcffc-1a8c-4d21-caad-df320ca521ec",
        "colab": {
          "base_uri": "https://localhost:8080/"
        }
      },
      "execution_count": 34,
      "outputs": [
        {
          "output_type": "stream",
          "name": "stdout",
          "text": [
            "Drive already mounted at /content/drive; to attempt to forcibly remount, call drive.mount(\"/content/drive\", force_remount=True).\n",
            "Archive:  /content/Workers.zip\n",
            "replace test/images/006128_jpg.rf.00cb2a85995d0c659eb113e3d788ab1b.jpg? [y]es, [n]o, [A]ll, [N]one, [r]ename: N\n",
            "benchmarks.py\t hubconf.py\t      requirements.txt\ttutorial.ipynb\n",
            "classify\t LICENSE\t      runs\t\tutils\n",
            "CONTRIBUTING.md  models\t\t      segment\t\tval.py\n",
            "data\t\t __pycache__\t      setup.cfg\t\tyolov5\n",
            "data.yaml\t README.dataset.txt   test\t\tyolov5s.pt\n",
            "detect.py\t README.md\t      train\n",
            "export.py\t README.roboflow.txt  train.py\n"
          ]
        }
      ]
    },
    {
      "cell_type": "markdown",
      "source": [
        "# Yamlファイルのパスを修正"
      ],
      "metadata": {
        "id": "-OZOECxICm4r"
      }
    },
    {
      "cell_type": "code",
      "source": [
        "#内容を確認\n",
        "%cat data.yaml"
      ],
      "metadata": {
        "colab": {
          "base_uri": "https://localhost:8080/"
        },
        "id": "XeslQ_NJ_o-S",
        "outputId": "7f500999-bccb-496b-b7f8-8c673ea09c67"
      },
      "execution_count": 35,
      "outputs": [
        {
          "output_type": "stream",
          "name": "stdout",
          "text": [
            "\n",
            "train: ./train/images\n",
            "val: ./test/images\n",
            "\n",
            "nc: 3\n",
            "names: ['head', 'helmet', 'person']\n"
          ]
        }
      ]
    },
    {
      "cell_type": "code",
      "source": [
        "# define number of classes based on YAML\n",
        "# data.yaml contains the information about number of classes and their labels required for this project\n",
        "import yaml\n",
        "with open(\"data.yaml\", 'r') as stream:\n",
        "    num_classes = str(yaml.safe_load(stream)['nc'])\n",
        "    print(num_classes)"
      ],
      "metadata": {
        "colab": {
          "base_uri": "https://localhost:8080/"
        },
        "id": "XBDfYaYzCaV0",
        "outputId": "d9f9879f-d6d2-428b-8348-19e645a83f7d"
      },
      "execution_count": 36,
      "outputs": [
        {
          "output_type": "stream",
          "name": "stdout",
          "text": [
            "3\n"
          ]
        }
      ]
    },
    {
      "cell_type": "code",
      "source": [
        "#customize iPython writefile so we can write variables\n",
        "from IPython.core.magic import register_line_cell_magic\n",
        "\n",
        "@register_line_cell_magic\n",
        "def writetemplate(line, cell):\n",
        "    with open(line, 'w') as f:\n",
        "        f.write(cell.format(**globals()))"
      ],
      "metadata": {
        "id": "1iHlseEcCfLx"
      },
      "execution_count": 37,
      "outputs": []
    },
    {
      "cell_type": "code",
      "source": [
        "# Below we are changing the data configuration for right path to the dataset\n",
        "# yamlファイルの書き換え（パスの修正）\n",
        "%%writetemplate /content/yolov5/data.yaml\n",
        "\n",
        "train: ./train/images\n",
        "val: ./test/images\n",
        "\n",
        "nc: 3\n",
        "names: ['head', 'helmet', 'person']"
      ],
      "metadata": {
        "id": "PKDd4kX_C0fd"
      },
      "execution_count": 39,
      "outputs": []
    },
    {
      "cell_type": "code",
      "source": [
        "with open(r'data.yaml') as file:\n",
        "    # The FullLoader parameter handles the conversion from YAML\n",
        "    # scalar values to Python the dictionary format\n",
        "    \n",
        "    # yamlファイル全体の情報を取得\n",
        "    labels_list = yaml.load(file, Loader=yaml.FullLoader)\n",
        "\n",
        "    #yamlからラベル情報を抜き出し\n",
        "    label_names = labels_list['names']\n",
        "\n",
        "print(\"Number of Classes are {}, whose labels are {} for this Object Detection project\".format(num_classes,label_names))\n",
        "\n",
        "# Number of Classes are 3, whose labels are ['head', 'helmet', 'person'] for this Object Detection project\n",
        "print(\"\")\n",
        "print(labels_list)\n",
        "print(label_names)"
      ],
      "metadata": {
        "colab": {
          "base_uri": "https://localhost:8080/"
        },
        "id": "yOhQRbUsDRB2",
        "outputId": "c70034f1-6ae9-407c-809b-ed4092334766"
      },
      "execution_count": 38,
      "outputs": [
        {
          "output_type": "stream",
          "name": "stdout",
          "text": [
            "Number of Classes are 3, whose labels are ['head', 'helmet', 'person'] for this Object Detection project\n",
            "\n",
            "{'train': './train/images', 'val': './test/images', 'nc': 3, 'names': ['head', 'helmet', 'person']}\n",
            "['head', 'helmet', 'person']\n"
          ]
        }
      ]
    },
    {
      "cell_type": "markdown",
      "source": [
        "#yolo5s.yamlも修正する"
      ],
      "metadata": {
        "id": "KPcp3XYaDVns"
      }
    },
    {
      "cell_type": "code",
      "source": [
        "# this is the model configuration we will use for our tutorial \n",
        "# yolov5s.yaml contains the configuration of neural network required for training.\n",
        "# モデルの構成を確認\n",
        "%cat /content/yolov5/models/yolov5s.yaml"
      ],
      "metadata": {
        "id": "a6fg7GLRDmg0",
        "colab": {
          "base_uri": "https://localhost:8080/"
        },
        "outputId": "0a5a465f-2ae2-4ff0-8c36-396157742b34"
      },
      "execution_count": 40,
      "outputs": [
        {
          "output_type": "stream",
          "name": "stdout",
          "text": [
            "# YOLOv5 🚀 by Ultralytics, GPL-3.0 license\n",
            "\n",
            "# Parameters\n",
            "nc: 80  # number of classes\n",
            "depth_multiple: 0.33  # model depth multiple\n",
            "width_multiple: 0.50  # layer channel multiple\n",
            "anchors:\n",
            "  - [10,13, 16,30, 33,23]  # P3/8\n",
            "  - [30,61, 62,45, 59,119]  # P4/16\n",
            "  - [116,90, 156,198, 373,326]  # P5/32\n",
            "\n",
            "# YOLOv5 v6.0 backbone\n",
            "backbone:\n",
            "  # [from, number, module, args]\n",
            "  [[-1, 1, Conv, [64, 6, 2, 2]],  # 0-P1/2\n",
            "   [-1, 1, Conv, [128, 3, 2]],  # 1-P2/4\n",
            "   [-1, 3, C3, [128]],\n",
            "   [-1, 1, Conv, [256, 3, 2]],  # 3-P3/8\n",
            "   [-1, 6, C3, [256]],\n",
            "   [-1, 1, Conv, [512, 3, 2]],  # 5-P4/16\n",
            "   [-1, 9, C3, [512]],\n",
            "   [-1, 1, Conv, [1024, 3, 2]],  # 7-P5/32\n",
            "   [-1, 3, C3, [1024]],\n",
            "   [-1, 1, SPPF, [1024, 5]],  # 9\n",
            "  ]\n",
            "\n",
            "# YOLOv5 v6.0 head\n",
            "head:\n",
            "  [[-1, 1, Conv, [512, 1, 1]],\n",
            "   [-1, 1, nn.Upsample, [None, 2, 'nearest']],\n",
            "   [[-1, 6], 1, Concat, [1]],  # cat backbone P4\n",
            "   [-1, 3, C3, [512, False]],  # 13\n",
            "\n",
            "   [-1, 1, Conv, [256, 1, 1]],\n",
            "   [-1, 1, nn.Upsample, [None, 2, 'nearest']],\n",
            "   [[-1, 4], 1, Concat, [1]],  # cat backbone P3\n",
            "   [-1, 3, C3, [256, False]],  # 17 (P3/8-small)\n",
            "\n",
            "   [-1, 1, Conv, [256, 3, 2]],\n",
            "   [[-1, 14], 1, Concat, [1]],  # cat head P4\n",
            "   [-1, 3, C3, [512, False]],  # 20 (P4/16-medium)\n",
            "\n",
            "   [-1, 1, Conv, [512, 3, 2]],\n",
            "   [[-1, 10], 1, Concat, [1]],  # cat head P5\n",
            "   [-1, 3, C3, [1024, False]],  # 23 (P5/32-large)\n",
            "\n",
            "   [[17, 20, 23], 1, Detect, [nc, anchors]],  # Detect(P3, P4, P5)\n",
            "  ]\n"
          ]
        }
      ]
    },
    {
      "cell_type": "code",
      "source": [
        "# Below we are changing the configuration so that it becomes compatible to number of classes required in this project\n",
        "%%writetemplate /content/yolov5/models/custom_yolov5s.yaml\n",
        "\n",
        "# parameters\n",
        "nc: {num_classes}  # number of classes  # CHANGED HERE\n",
        "depth_multiple: 0.33  # model depth multiple\n",
        "width_multiple: 0.50  # layer channel multiple\n",
        "\n",
        "# anchors\n",
        "anchors:\n",
        "  - [10,13, 16,30, 33,23]  # P3/8\n",
        "  - [30,61, 62,45, 59,119]  # P4/16\n",
        "  - [116,90, 156,198, 373,326]  # P5/32\n",
        "\n",
        "# YOLOv5 backbone\n",
        "backbone:\n",
        "  # [from, number, module, args]\n",
        "  [[-1, 1, Focus, [64, 3]],  # 0-P1/2\n",
        "   [-1, 1, Conv, [128, 3, 2]],  # 1-P2/4\n",
        "   [-1, 3, BottleneckCSP, [128]],\n",
        "   [-1, 1, Conv, [256, 3, 2]],  # 3-P3/8\n",
        "   [-1, 9, BottleneckCSP, [256]],\n",
        "   [-1, 1, Conv, [512, 3, 2]],  # 5-P4/16\n",
        "   [-1, 9, BottleneckCSP, [512]],\n",
        "   [-1, 1, Conv, [1024, 3, 2]],  # 7-P5/32\n",
        "   [-1, 1, SPP, [1024, [5, 9, 13]]],\n",
        "   [-1, 3, BottleneckCSP, [1024, False]],  # 9\n",
        "  ]\n",
        "\n",
        "# YOLOv5 head\n",
        "head:\n",
        "  [[-1, 1, Conv, [512, 1, 1]],\n",
        "   [-1, 1, nn.Upsample, [None, 2, 'nearest']],\n",
        "   [[-1, 6], 1, Concat, [1]],  # cat backbone P4\n",
        "   [-1, 3, BottleneckCSP, [512, False]],  # 13\n",
        "\n",
        "   [-1, 1, Conv, [256, 1, 1]],\n",
        "   [-1, 1, nn.Upsample, [None, 2, 'nearest']],\n",
        "   [[-1, 4], 1, Concat, [1]],  # cat backbone P3\n",
        "   [-1, 3, BottleneckCSP, [256, False]],  # 17 (P3/8-small)\n",
        "\n",
        "   [-1, 1, Conv, [256, 3, 2]],\n",
        "   [[-1, 14], 1, Concat, [1]],  # cat head P4\n",
        "   [-1, 3, BottleneckCSP, [512, False]],  # 20 (P4/16-medium)\n",
        "\n",
        "   [-1, 1, Conv, [512, 3, 2]],\n",
        "   [[-1, 10], 1, Concat, [1]],  # cat head P5\n",
        "   [-1, 3, BottleneckCSP, [1024, False]],  # 23 (P5/32-large)\n",
        "\n",
        "   [[17, 20, 23], 1, Detect, [nc, anchors]],  # Detect(P3, P4, P5)\n",
        "  ]"
      ],
      "metadata": {
        "id": "WJ_Ts18XElq8"
      },
      "execution_count": 41,
      "outputs": []
    },
    {
      "cell_type": "markdown",
      "source": [
        "#**モデルを学習**"
      ],
      "metadata": {
        "id": "krvxAoINFJnI"
      }
    },
    {
      "cell_type": "code",
      "source": [
        "%%time\n",
        "%cd /content/yolov5/"
      ],
      "metadata": {
        "colab": {
          "base_uri": "https://localhost:8080/"
        },
        "id": "bS-n4Ri1_3Sk",
        "outputId": "40f51ff9-b543-49e5-ec9e-48e46f3b533d"
      },
      "execution_count": null,
      "outputs": [
        {
          "output_type": "stream",
          "name": "stdout",
          "text": [
            "/content\n",
            "CPU times: user 1.2 ms, sys: 38 µs, total: 1.24 ms\n",
            "Wall time: 989 µs\n"
          ]
        }
      ]
    },
    {
      "cell_type": "code",
      "source": [
        "os.listdir(\"/content/yolov5/runs/train\")"
      ],
      "metadata": {
        "colab": {
          "base_uri": "https://localhost:8080/"
        },
        "id": "Sk--cJRv_de2",
        "outputId": "e53e6a73-c6ed-4ee6-81bd-77935db84c2a"
      },
      "execution_count": null,
      "outputs": [
        {
          "output_type": "execute_result",
          "data": {
            "text/plain": [
              "['exp', 'exp2']"
            ]
          },
          "metadata": {},
          "execution_count": 20
        }
      ]
    },
    {
      "cell_type": "code",
      "source": [
        "weight_path = \"/content/yolov5/runs/train/exp\"+str(np.amax(np.array([int(i.replace(\"exp\", \"0\")) for i in os.listdir(\"/content/yolov5/runs/train\") if \"exp\" in i])))+\"/weights/best.pt\"\n",
        "weight_path"
      ],
      "metadata": {
        "colab": {
          "base_uri": "https://localhost:8080/",
          "height": 35
        },
        "id": "ba4xTHjm_kyo",
        "outputId": "9adca581-aa7e-440d-91bb-02b214a3ed1f"
      },
      "execution_count": null,
      "outputs": [
        {
          "output_type": "execute_result",
          "data": {
            "text/plain": [
              "'/content/yolov5/runs/train/exp3/weights/best.pt'"
            ],
            "application/vnd.google.colaboratory.intrinsic+json": {
              "type": "string"
            }
          },
          "metadata": {},
          "execution_count": 28
        }
      ]
    },
    {
      "cell_type": "code",
      "source": [
        "save_best_weight()"
      ],
      "metadata": {
        "colab": {
          "base_uri": "https://localhost:8080/",
          "height": 322
        },
        "id": "PMh3lGm6-5kW",
        "outputId": "0b054989-fdbe-435b-d850-dc26e7f26471"
      },
      "execution_count": null,
      "outputs": [
        {
          "output_type": "error",
          "ename": "FileNotFoundError",
          "evalue": "ignored",
          "traceback": [
            "\u001b[0;31m---------------------------------------------------------------------------\u001b[0m",
            "\u001b[0;31mFileNotFoundError\u001b[0m                         Traceback (most recent call last)",
            "\u001b[0;32m<ipython-input-27-ede2e4cf305d>\u001b[0m in \u001b[0;36m<module>\u001b[0;34m\u001b[0m\n\u001b[0;32m----> 1\u001b[0;31m \u001b[0msave_best_weight\u001b[0m\u001b[0;34m(\u001b[0m\u001b[0;34m)\u001b[0m\u001b[0;34m\u001b[0m\u001b[0;34m\u001b[0m\u001b[0m\n\u001b[0m",
            "\u001b[0;32m<ipython-input-26-72ea6c83bf1c>\u001b[0m in \u001b[0;36msave_best_weight\u001b[0;34m()\u001b[0m\n\u001b[1;32m      7\u001b[0m \u001b[0;32mdef\u001b[0m \u001b[0msave_best_weight\u001b[0m\u001b[0;34m(\u001b[0m\u001b[0;34m)\u001b[0m\u001b[0;34m:\u001b[0m\u001b[0;34m\u001b[0m\u001b[0;34m\u001b[0m\u001b[0m\n\u001b[1;32m      8\u001b[0m     \u001b[0mweight_path\u001b[0m \u001b[0;34m=\u001b[0m \u001b[0;34m\"/content/yolov5/runs/train/exp\"\u001b[0m\u001b[0;34m+\u001b[0m\u001b[0mstr\u001b[0m\u001b[0;34m(\u001b[0m\u001b[0mnp\u001b[0m\u001b[0;34m.\u001b[0m\u001b[0mamax\u001b[0m\u001b[0;34m(\u001b[0m\u001b[0mnp\u001b[0m\u001b[0;34m.\u001b[0m\u001b[0marray\u001b[0m\u001b[0;34m(\u001b[0m\u001b[0;34m[\u001b[0m\u001b[0mint\u001b[0m\u001b[0;34m(\u001b[0m\u001b[0mi\u001b[0m\u001b[0;34m.\u001b[0m\u001b[0mreplace\u001b[0m\u001b[0;34m(\u001b[0m\u001b[0;34m\"exp\"\u001b[0m\u001b[0;34m,\u001b[0m \u001b[0;34m\"0\"\u001b[0m\u001b[0;34m)\u001b[0m\u001b[0;34m)\u001b[0m \u001b[0;32mfor\u001b[0m \u001b[0mi\u001b[0m \u001b[0;32min\u001b[0m \u001b[0mos\u001b[0m\u001b[0;34m.\u001b[0m\u001b[0mlistdir\u001b[0m\u001b[0;34m(\u001b[0m\u001b[0;34m\"/content/yolov5/runs/train\"\u001b[0m\u001b[0;34m)\u001b[0m \u001b[0;32mif\u001b[0m \u001b[0;34m\"exp\"\u001b[0m \u001b[0;32min\u001b[0m \u001b[0mi\u001b[0m\u001b[0;34m]\u001b[0m\u001b[0;34m)\u001b[0m\u001b[0;34m)\u001b[0m\u001b[0;34m)\u001b[0m\u001b[0;34m+\u001b[0m\u001b[0;34m\"/weights/best.pt\"\u001b[0m\u001b[0;34m\u001b[0m\u001b[0;34m\u001b[0m\u001b[0m\n\u001b[0;32m----> 9\u001b[0;31m     \u001b[0mshutil\u001b[0m\u001b[0;34m.\u001b[0m\u001b[0mcopy\u001b[0m\u001b[0;34m(\u001b[0m\u001b[0mweight_path\u001b[0m\u001b[0;34m,\u001b[0m \u001b[0;34m\"/content/drive/MyDrive/Deep_learning/YOLOv5/helmet.pt\"\u001b[0m\u001b[0;34m)\u001b[0m\u001b[0;34m\u001b[0m\u001b[0;34m\u001b[0m\u001b[0m\n\u001b[0m\u001b[1;32m     10\u001b[0m \u001b[0;34m\u001b[0m\u001b[0m\n\u001b[1;32m     11\u001b[0m \u001b[0;34m\u001b[0m\u001b[0m\n",
            "\u001b[0;32m/usr/lib/python3.7/shutil.py\u001b[0m in \u001b[0;36mcopy\u001b[0;34m(src, dst, follow_symlinks)\u001b[0m\n\u001b[1;32m    246\u001b[0m     \u001b[0;32mif\u001b[0m \u001b[0mos\u001b[0m\u001b[0;34m.\u001b[0m\u001b[0mpath\u001b[0m\u001b[0;34m.\u001b[0m\u001b[0misdir\u001b[0m\u001b[0;34m(\u001b[0m\u001b[0mdst\u001b[0m\u001b[0;34m)\u001b[0m\u001b[0;34m:\u001b[0m\u001b[0;34m\u001b[0m\u001b[0;34m\u001b[0m\u001b[0m\n\u001b[1;32m    247\u001b[0m         \u001b[0mdst\u001b[0m \u001b[0;34m=\u001b[0m \u001b[0mos\u001b[0m\u001b[0;34m.\u001b[0m\u001b[0mpath\u001b[0m\u001b[0;34m.\u001b[0m\u001b[0mjoin\u001b[0m\u001b[0;34m(\u001b[0m\u001b[0mdst\u001b[0m\u001b[0;34m,\u001b[0m \u001b[0mos\u001b[0m\u001b[0;34m.\u001b[0m\u001b[0mpath\u001b[0m\u001b[0;34m.\u001b[0m\u001b[0mbasename\u001b[0m\u001b[0;34m(\u001b[0m\u001b[0msrc\u001b[0m\u001b[0;34m)\u001b[0m\u001b[0;34m)\u001b[0m\u001b[0;34m\u001b[0m\u001b[0;34m\u001b[0m\u001b[0m\n\u001b[0;32m--> 248\u001b[0;31m     \u001b[0mcopyfile\u001b[0m\u001b[0;34m(\u001b[0m\u001b[0msrc\u001b[0m\u001b[0;34m,\u001b[0m \u001b[0mdst\u001b[0m\u001b[0;34m,\u001b[0m \u001b[0mfollow_symlinks\u001b[0m\u001b[0;34m=\u001b[0m\u001b[0mfollow_symlinks\u001b[0m\u001b[0;34m)\u001b[0m\u001b[0;34m\u001b[0m\u001b[0;34m\u001b[0m\u001b[0m\n\u001b[0m\u001b[1;32m    249\u001b[0m     \u001b[0mcopymode\u001b[0m\u001b[0;34m(\u001b[0m\u001b[0msrc\u001b[0m\u001b[0;34m,\u001b[0m \u001b[0mdst\u001b[0m\u001b[0;34m,\u001b[0m \u001b[0mfollow_symlinks\u001b[0m\u001b[0;34m=\u001b[0m\u001b[0mfollow_symlinks\u001b[0m\u001b[0;34m)\u001b[0m\u001b[0;34m\u001b[0m\u001b[0;34m\u001b[0m\u001b[0m\n\u001b[1;32m    250\u001b[0m     \u001b[0;32mreturn\u001b[0m \u001b[0mdst\u001b[0m\u001b[0;34m\u001b[0m\u001b[0;34m\u001b[0m\u001b[0m\n",
            "\u001b[0;32m/usr/lib/python3.7/shutil.py\u001b[0m in \u001b[0;36mcopyfile\u001b[0;34m(src, dst, follow_symlinks)\u001b[0m\n\u001b[1;32m    118\u001b[0m         \u001b[0mos\u001b[0m\u001b[0;34m.\u001b[0m\u001b[0msymlink\u001b[0m\u001b[0;34m(\u001b[0m\u001b[0mos\u001b[0m\u001b[0;34m.\u001b[0m\u001b[0mreadlink\u001b[0m\u001b[0;34m(\u001b[0m\u001b[0msrc\u001b[0m\u001b[0;34m)\u001b[0m\u001b[0;34m,\u001b[0m \u001b[0mdst\u001b[0m\u001b[0;34m)\u001b[0m\u001b[0;34m\u001b[0m\u001b[0;34m\u001b[0m\u001b[0m\n\u001b[1;32m    119\u001b[0m     \u001b[0;32melse\u001b[0m\u001b[0;34m:\u001b[0m\u001b[0;34m\u001b[0m\u001b[0;34m\u001b[0m\u001b[0m\n\u001b[0;32m--> 120\u001b[0;31m         \u001b[0;32mwith\u001b[0m \u001b[0mopen\u001b[0m\u001b[0;34m(\u001b[0m\u001b[0msrc\u001b[0m\u001b[0;34m,\u001b[0m \u001b[0;34m'rb'\u001b[0m\u001b[0;34m)\u001b[0m \u001b[0;32mas\u001b[0m \u001b[0mfsrc\u001b[0m\u001b[0;34m:\u001b[0m\u001b[0;34m\u001b[0m\u001b[0;34m\u001b[0m\u001b[0m\n\u001b[0m\u001b[1;32m    121\u001b[0m             \u001b[0;32mwith\u001b[0m \u001b[0mopen\u001b[0m\u001b[0;34m(\u001b[0m\u001b[0mdst\u001b[0m\u001b[0;34m,\u001b[0m \u001b[0;34m'wb'\u001b[0m\u001b[0;34m)\u001b[0m \u001b[0;32mas\u001b[0m \u001b[0mfdst\u001b[0m\u001b[0;34m:\u001b[0m\u001b[0;34m\u001b[0m\u001b[0;34m\u001b[0m\u001b[0m\n\u001b[1;32m    122\u001b[0m                 \u001b[0mcopyfileobj\u001b[0m\u001b[0;34m(\u001b[0m\u001b[0mfsrc\u001b[0m\u001b[0;34m,\u001b[0m \u001b[0mfdst\u001b[0m\u001b[0;34m)\u001b[0m\u001b[0;34m\u001b[0m\u001b[0;34m\u001b[0m\u001b[0m\n",
            "\u001b[0;31mFileNotFoundError\u001b[0m: [Errno 2] No such file or directory: '/content/yolov5/runs/train/exp3/weights/best.pt'"
          ]
        }
      ]
    },
    {
      "cell_type": "code",
      "source": [
        "import numpy as np\n",
        "\n",
        "# Training\n",
        "# 10epochごとにベストモデルを退避させる\n",
        "\n",
        "#数字の一番大きいexpフォルダを探し、そのフォルダのbest.ptをdrive上にコピー\n",
        "def save_best_weight():\n",
        "    weight_path = \"/content/yolov5/runs/train/exp\"+str(np.amax(np.array([int(i.replace(\"exp\", \"0\")) for i in os.listdir(\"/content/yolov5/runs/train\") if \"exp\" in i])))+\"/weights/best.pt\"\n",
        "    shutil.copy(weight_path, \"/content/drive/MyDrive/Deep_learning/YOLOv5/helmet.pt\")\n",
        "\n",
        "\n",
        "!python train.py --img 416 --batch 80 --epochs 10 --data './data.yaml' --cfg ./models/custom_yolov5s.yaml --weights /content/yolov5/yolov5s.pt\n",
        "save_best_weight()\n",
        "print(\"10 epochs done!\")\n",
        "\n",
        "\n",
        "!python train.py --img 416 --batch 80 --resume --epochs 10 --data './data.yaml' --cfg ./models/custom_yolov5s.yaml --weights /content/drive/MyDrive/Deep_learning/YOLOv5/helmet.pt\n",
        "save_best_weight()\n",
        "print(\"20 epochs done!\")\n",
        "\n",
        "!python train.py --img 416 --batch 80 --resume --epochs 10 --data './data.yaml' --cfg ./models/custom_yolov5s.yaml --weights /content/drive/MyDrive/Deep_learning/YOLOv5/helmet.pt\n",
        "save_best_weight()\n",
        "print(\"30 epochs done!\")\n",
        "\n",
        "!python train.py --img 416 --batch 80 --resume --epochs 10 --data './data.yaml' --cfg ./models/custom_yolov5s.yaml --weights /content/drive/MyDrive/Deep_learning/YOLOv5/helmet.pt\n",
        "save_best_weight()\n",
        "print(\"40 epochs done!\")\n",
        "\n",
        "!python train.py --img 416 --batch 80 --resume --epochs 10 --data './data.yaml' --cfg ./models/custom_yolov5s.yaml --weights /content/drive/MyDrive/Deep_learning/YOLOv5/helmet.pt\n",
        "save_best_weight()\n",
        "print(\"50 epochs done!\")\n",
        "\n",
        "!python train.py --img 416 --batch 80 --resume --epochs 10 --data './data.yaml' --cfg ./models/custom_yolov5s.yaml --weights /content/drive/MyDrive/Deep_learning/YOLOv5/helmet.pt\n",
        "save_best_weight()\n",
        "print(\"60 epochs done!\")\n",
        "\n",
        "!python train.py --img 416 --batch 80 --resume --epochs 10 --data './data.yaml' --cfg ./models/custom_yolov5s.yaml --weights /content/drive/MyDrive/Deep_learning/YOLOv5/helmet.pt\n",
        "save_best_weight()\n",
        "print(\"70 epochs done!\")\n",
        "\n",
        "!python train.py --img 416 --batch 80 --resume --epochs 10 --data './data.yaml' --cfg ./models/custom_yolov5s.yaml --weights /content/drive/MyDrive/Deep_learning/YOLOv5/helmet.pt\n",
        "save_best_weight()\n",
        "print(\"80 epochs done!\")\n",
        "\n",
        "!python train.py --img 416 --batch 80 --resume --epochs 10 --data './data.yaml' --cfg ./models/custom_yolov5s.yaml --weights /content/drive/MyDrive/Deep_learning/YOLOv5/helmet.pt\n",
        "save_best_weight()\n",
        "print(\"90 epochs done!\")\n",
        "\n",
        "!python train.py --img 416 --batch 80 --resume --epochs 10 --data './data.yaml' --cfg ./models/custom_yolov5s.yaml --weights /content/drive/MyDrive/Deep_learning/YOLOv5/helmet.pt\n",
        "save_best_weight()\n",
        "print(\"100 epochs done!\")\n"
      ],
      "metadata": {
        "id": "7QBzP812_0ut"
      },
      "execution_count": null,
      "outputs": []
    },
    {
      "cell_type": "code",
      "source": [
        "text = \"\"\"\\\n",
        "# YOLOv5 🚀 by Ultralytics, GPL-3.0 license\n",
        "\n",
        "# Train a YOLOv5 model on a custom dataset.\n",
        "# Models and datasets download automatically from the latest YOLOv5 release.\n",
        "\n",
        "# Usage - Single-GPU training:\n",
        "#     $ python train.py --data coco128.yaml --weights yolov5s.pt --img 640  # from pretrained (recommended)\n",
        "#     $ python train.py --data coco128.yaml --weights '' --cfg yolov5s.yaml --img 640  # from scratch\n",
        "\n",
        "# Usage - Multi-GPU DDP training:\n",
        "#     $ python -m torch.distributed.run --nproc_per_node 4 --master_port 1 train.py --data coco128.yaml --weights yolov5s.pt --img 640 --device 0,1,2,3\n",
        "\n",
        "# Models:     https://github.com/ultralytics/yolov5/tree/master/models\n",
        "# Datasets:   https://github.com/ultralytics/yolov5/tree/master/data\n",
        "# Tutorial:   https://github.com/ultralytics/yolov5/wiki/Train-Custom-Data\n",
        "\n",
        "\n",
        "import argparse\n",
        "import math\n",
        "import os\n",
        "import random\n",
        "import sys\n",
        "import time\n",
        "from copy import deepcopy\n",
        "from datetime import datetime\n",
        "from pathlib import Path\n",
        "\n",
        "import numpy as np\n",
        "import torch\n",
        "import torch.distributed as dist\n",
        "import torch.nn as nn\n",
        "import yaml\n",
        "from torch.optim import lr_scheduler\n",
        "from tqdm import tqdm\n",
        "\n",
        "FILE = Path(__file__).resolve()\n",
        "ROOT = FILE.parents[0]  # YOLOv5 root directory\n",
        "if str(ROOT) not in sys.path:\n",
        "    sys.path.append(str(ROOT))  # add ROOT to PATH\n",
        "ROOT = Path(os.path.relpath(ROOT, Path.cwd()))  # relative\n",
        "\n",
        "import val as validate  # for end-of-epoch mAP\n",
        "from models.experimental import attempt_load\n",
        "from models.yolo import Model\n",
        "from utils.autoanchor import check_anchors\n",
        "from utils.autobatch import check_train_batch_size\n",
        "from utils.callbacks import Callbacks\n",
        "from utils.dataloaders import create_dataloader\n",
        "from utils.downloads import attempt_download, is_url\n",
        "from utils.general import (LOGGER, check_amp, check_dataset, check_file, check_git_status, check_img_size,\n",
        "                           check_requirements, check_suffix, check_yaml, colorstr, get_latest_run, increment_path,\n",
        "                           init_seeds, intersect_dicts, labels_to_class_weights, labels_to_image_weights, methods,\n",
        "                           one_cycle, print_args, print_mutation, strip_optimizer, yaml_save)\n",
        "from utils.loggers import Loggers\n",
        "from utils.loggers.comet.comet_utils import check_comet_resume\n",
        "from utils.loss import ComputeLoss\n",
        "from utils.metrics import fitness\n",
        "from utils.plots import plot_evolve\n",
        "from utils.torch_utils import (EarlyStopping, ModelEMA, de_parallel, select_device, smart_DDP, smart_optimizer,\n",
        "                               smart_resume, torch_distributed_zero_first)\n",
        "\n",
        "LOCAL_RANK = int(os.getenv('LOCAL_RANK', -1))  # https://pytorch.org/docs/stable/elastic/run.html\n",
        "RANK = int(os.getenv('RANK', -1))\n",
        "WORLD_SIZE = int(os.getenv('WORLD_SIZE', 1))\n",
        "\n",
        "\n",
        "def train(hyp, opt, device, callbacks):  # hyp is path/to/hyp.yaml or hyp dictionary\n",
        "    save_dir, epochs, batch_size, weights, single_cls, evolve, data, cfg, resume, noval, nosave, workers, freeze = \\\n",
        "        Path(opt.save_dir), opt.epochs, opt.batch_size, opt.weights, opt.single_cls, opt.evolve, opt.data, opt.cfg, \\\n",
        "        opt.resume, opt.noval, opt.nosave, opt.workers, opt.freeze\n",
        "    callbacks.run('on_pretrain_routine_start')\n",
        "\n",
        "    # Directories\n",
        "    w = save_dir / 'weights'  # weights dir\n",
        "    (w.parent if evolve else w).mkdir(parents=True, exist_ok=True)  # make dir\n",
        "    last, best = w / 'last.pt', w / 'best.pt'\n",
        "\n",
        "    # Hyperparameters\n",
        "    if isinstance(hyp, str):\n",
        "        with open(hyp, errors='ignore') as f:\n",
        "            hyp = yaml.safe_load(f)  # load hyps dict\n",
        "    LOGGER.info(colorstr('hyperparameters: ') + ', '.join(f'{k}={v}' for k, v in hyp.items()))\n",
        "    opt.hyp = hyp.copy()  # for saving hyps to checkpoints\n",
        "\n",
        "    # Save run settings\n",
        "    if not evolve:\n",
        "        yaml_save(save_dir / 'hyp.yaml', hyp)\n",
        "        yaml_save(save_dir / 'opt.yaml', vars(opt))\n",
        "\n",
        "    # Loggers\n",
        "    data_dict = None\n",
        "    if RANK in {-1, 0}:\n",
        "        loggers = Loggers(save_dir, weights, opt, hyp, LOGGER)  # loggers instance\n",
        "\n",
        "        # Register actions\n",
        "        for k in methods(loggers):\n",
        "            callbacks.register_action(k, callback=getattr(loggers, k))\n",
        "\n",
        "        # Process custom dataset artifact link\n",
        "        data_dict = loggers.remote_dataset\n",
        "        if resume:  # If resuming runs from remote artifact\n",
        "            weights, epochs, hyp, batch_size = opt.weights, opt.epochs, opt.hyp, opt.batch_size\n",
        "\n",
        "    # Config\n",
        "    plots = not evolve and not opt.noplots  # create plots\n",
        "    cuda = device.type != 'cpu'\n",
        "    init_seeds(opt.seed + 1 + RANK, deterministic=True)\n",
        "    with torch_distributed_zero_first(LOCAL_RANK):\n",
        "        data_dict = data_dict or check_dataset(data)  # check if None\n",
        "    train_path, val_path = data_dict['train'], data_dict['val']\n",
        "    nc = 1 if single_cls else int(data_dict['nc'])  # number of classes\n",
        "    names = {0: 'item'} if single_cls and len(data_dict['names']) != 1 else data_dict['names']  # class names\n",
        "    is_coco = isinstance(val_path, str) and val_path.endswith('coco/val2017.txt')  # COCO dataset\n",
        "\n",
        "    # Model\n",
        "    check_suffix(weights, '.pt')  # check weights\n",
        "    pretrained = weights.endswith('.pt')\n",
        "    if pretrained:\n",
        "        with torch_distributed_zero_first(LOCAL_RANK):\n",
        "            weights = attempt_download(weights)  # download if not found locally\n",
        "        ckpt = torch.load(weights, map_location='cpu')  # load checkpoint to CPU to avoid CUDA memory leak\n",
        "        model = Model(cfg or ckpt['model'].yaml, ch=3, nc=nc, anchors=hyp.get('anchors')).to(device)  # create\n",
        "        exclude = ['anchor'] if (cfg or hyp.get('anchors')) and not resume else []  # exclude keys\n",
        "        csd = ckpt['model'].float().state_dict()  # checkpoint state_dict as FP32\n",
        "        csd = intersect_dicts(csd, model.state_dict(), exclude=exclude)  # intersect\n",
        "        model.load_state_dict(csd, strict=False)  # load\n",
        "        LOGGER.info(f'Transferred {len(csd)}/{len(model.state_dict())} items from {weights}')  # report\n",
        "    else:\n",
        "        model = Model(cfg, ch=3, nc=nc, anchors=hyp.get('anchors')).to(device)  # create\n",
        "    amp = check_amp(model)  # check AMP\n",
        "\n",
        "    # Freeze\n",
        "    freeze = [f'model.{x}.' for x in (freeze if len(freeze) > 1 else range(freeze[0]))]  # layers to freeze\n",
        "    for k, v in model.named_parameters():\n",
        "        v.requires_grad = True  # train all layers\n",
        "        # v.register_hook(lambda x: torch.nan_to_num(x))  # NaN to 0 (commented for erratic training results)\n",
        "        if any(x in k for x in freeze):\n",
        "            LOGGER.info(f'freezing {k}')\n",
        "            v.requires_grad = False\n",
        "\n",
        "    # Image size\n",
        "    gs = max(int(model.stride.max()), 32)  # grid size (max stride)\n",
        "    imgsz = check_img_size(opt.imgsz, gs, floor=gs * 2)  # verify imgsz is gs-multiple\n",
        "\n",
        "    # Batch size\n",
        "    if RANK == -1 and batch_size == -1:  # single-GPU only, estimate best batch size\n",
        "        batch_size = check_train_batch_size(model, imgsz, amp)\n",
        "        loggers.on_params_update({\"batch_size\": batch_size})\n",
        "\n",
        "    # Optimizer\n",
        "    nbs = 64  # nominal batch size\n",
        "    accumulate = max(round(nbs / batch_size), 1)  # accumulate loss before optimizing\n",
        "    hyp['weight_decay'] *= batch_size * accumulate / nbs  # scale weight_decay\n",
        "    optimizer = smart_optimizer(model, opt.optimizer, hyp['lr0'], hyp['momentum'], hyp['weight_decay'])\n",
        "\n",
        "    # Scheduler\n",
        "    if opt.cos_lr:\n",
        "        lf = one_cycle(1, hyp['lrf'], epochs)  # cosine 1->hyp['lrf']\n",
        "    else:\n",
        "        lf = lambda x: (1 - x / epochs) * (1.0 - hyp['lrf']) + hyp['lrf']  # linear\n",
        "    scheduler = lr_scheduler.LambdaLR(optimizer, lr_lambda=lf)  # plot_lr_scheduler(optimizer, scheduler, epochs)\n",
        "\n",
        "    # EMA\n",
        "    ema = ModelEMA(model) if RANK in {-1, 0} else None\n",
        "\n",
        "    # Resume\n",
        "    best_fitness, start_epoch = 0.0, 0\n",
        "    if pretrained:\n",
        "        if resume:\n",
        "            best_fitness, start_epoch, epochs = smart_resume(ckpt, optimizer, ema, weights, epochs, resume)\n",
        "        del ckpt, csd\n",
        "\n",
        "    # DP mode\n",
        "    if cuda and RANK == -1 and torch.cuda.device_count() > 1:\n",
        "        LOGGER.warning('WARNING DP not recommended, use torch.distributed.run for best DDP Multi-GPU results.')\n",
        "        model = torch.nn.DataParallel(model)\n",
        "\n",
        "    # SyncBatchNorm\n",
        "    if opt.sync_bn and cuda and RANK != -1:\n",
        "        model = torch.nn.SyncBatchNorm.convert_sync_batchnorm(model).to(device)\n",
        "        LOGGER.info('Using SyncBatchNorm()')\n",
        "\n",
        "    # Trainloader\n",
        "    train_loader, dataset = create_dataloader(train_path,\n",
        "                                              imgsz,\n",
        "                                              batch_size // WORLD_SIZE,\n",
        "                                              gs,\n",
        "                                              single_cls,\n",
        "                                              hyp=hyp,\n",
        "                                              augment=True,\n",
        "                                              cache=None if opt.cache == 'val' else opt.cache,\n",
        "                                              rect=opt.rect,\n",
        "                                              rank=LOCAL_RANK,\n",
        "                                              workers=workers,\n",
        "                                              image_weights=opt.image_weights,\n",
        "                                              quad=opt.quad,\n",
        "                                              prefix=colorstr('train: '),\n",
        "                                              shuffle=True)\n",
        "    labels = np.concatenate(dataset.labels, 0)\n",
        "    mlc = int(labels[:, 0].max())  # max label class\n",
        "    assert mlc < nc, f'Label class {mlc} exceeds nc={nc} in {data}. Possible class labels are 0-{nc - 1}'\n",
        "\n",
        "    # Process 0\n",
        "    if RANK in {-1, 0}:\n",
        "        val_loader = create_dataloader(val_path,\n",
        "                                       imgsz,\n",
        "                                       batch_size // WORLD_SIZE * 2,\n",
        "                                       gs,\n",
        "                                       single_cls,\n",
        "                                       hyp=hyp,\n",
        "                                       cache=None if noval else opt.cache,\n",
        "                                       rect=True,\n",
        "                                       rank=-1,\n",
        "                                       workers=workers * 2,\n",
        "                                       pad=0.5,\n",
        "                                       prefix=colorstr('val: '))[0]\n",
        "\n",
        "        if not resume:\n",
        "            if not opt.noautoanchor:\n",
        "                check_anchors(dataset, model=model, thr=hyp['anchor_t'], imgsz=imgsz)  # run AutoAnchor\n",
        "            model.half().float()  # pre-reduce anchor precision\n",
        "\n",
        "        callbacks.run('on_pretrain_routine_end', labels, names)\n",
        "\n",
        "    # DDP mode\n",
        "    if cuda and RANK != -1:\n",
        "        model = smart_DDP(model)\n",
        "\n",
        "    # Model attributes\n",
        "    nl = de_parallel(model).model[-1].nl  # number of detection layers (to scale hyps)\n",
        "    hyp['box'] *= 3 / nl  # scale to layers\n",
        "    hyp['cls'] *= nc / 80 * 3 / nl  # scale to classes and layers\n",
        "    hyp['obj'] *= (imgsz / 640) ** 2 * 3 / nl  # scale to image size and layers\n",
        "    hyp['label_smoothing'] = opt.label_smoothing\n",
        "    model.nc = nc  # attach number of classes to model\n",
        "    model.hyp = hyp  # attach hyperparameters to model\n",
        "    model.class_weights = labels_to_class_weights(dataset.labels, nc).to(device) * nc  # attach class weights\n",
        "    model.names = names\n",
        "\n",
        "    # Start training\n",
        "    t0 = time.time()\n",
        "    nb = len(train_loader)  # number of batches\n",
        "    nw = max(round(hyp['warmup_epochs'] * nb), 100)  # number of warmup iterations, max(3 epochs, 100 iterations)\n",
        "    # nw = min(nw, (epochs - start_epoch) / 2 * nb)  # limit warmup to < 1/2 of training\n",
        "    last_opt_step = -1\n",
        "    maps = np.zeros(nc)  # mAP per class\n",
        "    results = (0, 0, 0, 0, 0, 0, 0)  # P, R, mAP@.5, mAP@.5-.95, val_loss(box, obj, cls)\n",
        "    scheduler.last_epoch = start_epoch - 1  # do not move\n",
        "    scaler = torch.cuda.amp.GradScaler(enabled=amp)\n",
        "    stopper, stop = EarlyStopping(patience=opt.patience), False\n",
        "    compute_loss = ComputeLoss(model)  # init loss class\n",
        "    callbacks.run('on_train_start')\n",
        "    LOGGER.info(f'Image sizes {imgsz} train, {imgsz} val, '\n",
        "                f'Using {train_loader.num_workers * WORLD_SIZE} dataloader workers, '\n",
        "                f\"Logging results to {colorstr('bold', save_dir)}, \"\n",
        "                f'Starting training for {epochs} epochs...')\n",
        "    for epoch in range(start_epoch, epochs):  # epoch ------------------------------------------------------------------\n",
        "        callbacks.run('on_train_epoch_start')\n",
        "        model.train()\n",
        "\n",
        "        # Update image weights (optional, single-GPU only)\n",
        "        if opt.image_weights:\n",
        "            cw = model.class_weights.cpu().numpy() * (1 - maps) ** 2 / nc  # class weights\n",
        "            iw = labels_to_image_weights(dataset.labels, nc=nc, class_weights=cw)  # image weights\n",
        "            dataset.indices = random.choices(range(dataset.n), weights=iw, k=dataset.n)  # rand weighted idx\n",
        "\n",
        "        # Update mosaic border (optional)\n",
        "        # b = int(random.uniform(0.25 * imgsz, 0.75 * imgsz + gs) // gs * gs)\n",
        "        # dataset.mosaic_border = [b - imgsz, -b]  # height, width borders\n",
        "\n",
        "        mloss = torch.zeros(3, device=device)  # mean losses\n",
        "        if RANK != -1:\n",
        "            train_loader.sampler.set_epoch(epoch)\n",
        "        pbar = enumerate(train_loader)\n",
        "        LOGGER.info(( '%11s' * 7) % ('Epoch', 'GPU_mem', 'box_loss', 'obj_loss', 'cls_loss', 'Instances', 'Size'))\n",
        "        if RANK in {-1, 0}:\n",
        "            pbar = tqdm(pbar, total=nb, bar_format='{l_bar}{bar:10}{r_bar}{bar:-10b}')  # progress bar\n",
        "        optimizer.zero_grad()\n",
        "        for i, (imgs, targets, paths, _) in pbar:  # batch -------------------------------------------------------------\n",
        "            callbacks.run('on_train_batch_start')\n",
        "            ni = i + nb * epoch  # number integrated batches (since train start)\n",
        "            imgs = imgs.to(device, non_blocking=True).float() / 255  # uint8 to float32, 0-255 to 0.0-1.0\n",
        "\n",
        "            # Warmup\n",
        "            if ni <= nw:\n",
        "                xi = [0, nw]  # x interp\n",
        "                # compute_loss.gr = np.interp(ni, xi, [0.0, 1.0])  # iou loss ratio (obj_loss = 1.0 or iou)\n",
        "                accumulate = max(1, np.interp(ni, xi, [1, nbs / batch_size]).round())\n",
        "                for j, x in enumerate(optimizer.param_groups):\n",
        "                    # bias lr falls from 0.1 to lr0, all other lrs rise from 0.0 to lr0\n",
        "                    x['lr'] = np.interp(ni, xi, [hyp['warmup_bias_lr'] if j == 0 else 0.0, x['initial_lr'] * lf(epoch)])\n",
        "                    if 'momentum' in x:\n",
        "                        x['momentum'] = np.interp(ni, xi, [hyp['warmup_momentum'], hyp['momentum']])\n",
        "\n",
        "            # Multi-scale\n",
        "            if opt.multi_scale:\n",
        "                sz = random.randrange(imgsz * 0.5, imgsz * 1.5 + gs) // gs * gs  # size\n",
        "                sf = sz / max(imgs.shape[2:])  # scale factor\n",
        "                if sf != 1:\n",
        "                    ns = [math.ceil(x * sf / gs) * gs for x in imgs.shape[2:]]  # new shape (stretched to gs-multiple)\n",
        "                    imgs = nn.functional.interpolate(imgs, size=ns, mode='bilinear', align_corners=False)\n",
        "\n",
        "            # Forward\n",
        "            with torch.cuda.amp.autocast(amp):\n",
        "                pred = model(imgs)  # forward\n",
        "                loss, loss_items = compute_loss(pred, targets.to(device))  # loss scaled by batch_size\n",
        "                if RANK != -1:\n",
        "                    loss *= WORLD_SIZE  # gradient averaged between devices in DDP mode\n",
        "                if opt.quad:\n",
        "                    loss *= 4.\n",
        "\n",
        "            # Backward\n",
        "            scaler.scale(loss).backward()\n",
        "\n",
        "            # Optimize - https://pytorch.org/docs/master/notes/amp_examples.html\n",
        "            if ni - last_opt_step >= accumulate:\n",
        "                scaler.unscale_(optimizer)  # unscale gradients\n",
        "                torch.nn.utils.clip_grad_norm_(model.parameters(), max_norm=10.0)  # clip gradients\n",
        "                scaler.step(optimizer)  # optimizer.step\n",
        "                scaler.update()\n",
        "                optimizer.zero_grad()\n",
        "                if ema:\n",
        "                    ema.update(model)\n",
        "                last_opt_step = ni\n",
        "\n",
        "            # Log\n",
        "            if RANK in {-1, 0}:\n",
        "                mloss = (mloss * i + loss_items) / (i + 1)  # update mean losses\n",
        "                mem = f'{torch.cuda.memory_reserved() / 1E9 if torch.cuda.is_available() else 0:.3g}G'  # (GB)\n",
        "                pbar.set_description(('%11s' * 2 + '%11.4g' * 5) %\n",
        "                                     (f'{epoch}/{epochs - 1}', mem, *mloss, targets.shape[0], imgs.shape[-1]))\n",
        "                callbacks.run('on_train_batch_end', model, ni, imgs, targets, paths, list(mloss))\n",
        "                if callbacks.stop_training:\n",
        "                    return\n",
        "            # end batch ------------------------------------------------------------------------------------------------\n",
        "\n",
        "        # Scheduler\n",
        "        lr = [x['lr'] for x in optimizer.param_groups]  # for loggers\n",
        "        scheduler.step()\n",
        "\n",
        "        if RANK in {-1, 0}:\n",
        "            # mAP\n",
        "            callbacks.run('on_train_epoch_end', epoch=epoch)\n",
        "            ema.update_attr(model, include=['yaml', 'nc', 'hyp', 'names', 'stride', 'class_weights'])\n",
        "            final_epoch = (epoch + 1 == epochs) or stopper.possible_stop\n",
        "            if not noval or final_epoch:  # Calculate mAP\n",
        "                results, maps, _ = validate.run(data_dict,\n",
        "                                                batch_size=batch_size // WORLD_SIZE * 2,\n",
        "                                                imgsz=imgsz,\n",
        "                                                half=amp,\n",
        "                                                model=ema.ema,\n",
        "                                                single_cls=single_cls,\n",
        "                                                dataloader=val_loader,\n",
        "                                                save_dir=save_dir,\n",
        "                                                plots=False,\n",
        "                                                callbacks=callbacks,\n",
        "                                                compute_loss=compute_loss)\n",
        "\n",
        "            # Update best mAP\n",
        "            fi = fitness(np.array(results).reshape(1, -1))  # weighted combination of [P, R, mAP@.5, mAP@.5-.95]\n",
        "            stop = stopper(epoch=epoch, fitness=fi)  # early stop check\n",
        "            if fi > best_fitness:\n",
        "                best_fitness = fi\n",
        "            log_vals = list(mloss) + list(results) + lr\n",
        "            callbacks.run('on_fit_epoch_end', log_vals, epoch, best_fitness, fi)\n",
        "\n",
        "            # Save model\n",
        "            if (not nosave) or (final_epoch and not evolve):  # if save\n",
        "                ckpt = {\n",
        "                    'epoch': epoch,\n",
        "                    'best_fitness': best_fitness,\n",
        "                    'model': deepcopy(de_parallel(model)).half(),\n",
        "                    'ema': deepcopy(ema.ema).half(),\n",
        "                    'updates': ema.updates,\n",
        "                    'optimizer': optimizer.state_dict(),\n",
        "                    'opt': vars(opt),\n",
        "                    'date': datetime.now().isoformat()}\n",
        "\n",
        "                # Save last, best and delete\n",
        "                torch.save(ckpt, last)\n",
        "                if best_fitness == fi:\n",
        "                    torch.save(ckpt, best)\n",
        "                if opt.save_period > 0 and epoch % opt.save_period == 0:\n",
        "                    torch.save(ckpt, w / f'epoch{epoch}.pt')\n",
        "                del ckpt\n",
        "                callbacks.run('on_model_save', last, epoch, final_epoch, best_fitness, fi)\n",
        "\n",
        "        # EarlyStopping\n",
        "        if RANK != -1:  # if DDP training\n",
        "            broadcast_list = [stop if RANK == 0 else None]\n",
        "            dist.broadcast_object_list(broadcast_list, 0)  # broadcast 'stop' to all ranks\n",
        "            if RANK != 0:\n",
        "                stop = broadcast_list[0]\n",
        "        if stop:\n",
        "            break  # must break all DDP ranks\n",
        "\n",
        "        # end epoch ----------------------------------------------------------------------------------------------------\n",
        "    # end training -----------------------------------------------------------------------------------------------------\n",
        "    if RANK in {-1, 0}:\n",
        "        LOGGER.info(f'{epoch - start_epoch + 1} epochs completed in {(time.time() - t0) / 3600:.3f} hours.')\n",
        "        for f in last, best:\n",
        "            if f.exists():\n",
        "                strip_optimizer(f)  # strip optimizers\n",
        "                if f is best:\n",
        "                    LOGGER.info(f'Validating {f}...')\n",
        "                    results, _, _ = validate.run(\n",
        "                        data_dict,\n",
        "                        batch_size=batch_size // WORLD_SIZE * 2,\n",
        "                        imgsz=imgsz,\n",
        "                        model=attempt_load(f, device).half(),\n",
        "                        iou_thres=0.65 if is_coco else 0.60,  # best pycocotools at iou 0.65\n",
        "                        single_cls=single_cls,\n",
        "                        dataloader=val_loader,\n",
        "                        save_dir=save_dir,\n",
        "                        save_json=is_coco,\n",
        "                        verbose=True,\n",
        "                        plots=plots,\n",
        "                        callbacks=callbacks,\n",
        "                        compute_loss=compute_loss)  # val best model with plots\n",
        "                    if is_coco:\n",
        "                        callbacks.run('on_fit_epoch_end', list(mloss) + list(results) + lr, epoch, best_fitness, fi)\n",
        "\n",
        "        callbacks.run('on_train_end', last, best, epoch, results)\n",
        "\n",
        "    torch.cuda.empty_cache()\n",
        "    return results\n",
        "\n",
        "\n",
        "def parse_opt(known=False):\n",
        "    parser = argparse.ArgumentParser()\n",
        "    parser.add_argument('--weights', type=str, default=ROOT / 'yolov5s.pt', help='initial weights path')\n",
        "    parser.add_argument('--cfg', type=str, default='', help='model.yaml path')\n",
        "    parser.add_argument('--data', type=str, default=ROOT / 'data/coco128.yaml', help='dataset.yaml path')\n",
        "    parser.add_argument('--hyp', type=str, default=ROOT / 'data/hyps/hyp.scratch-low.yaml', help='hyperparameters path')\n",
        "    parser.add_argument('--epochs', type=int, default=300, help='total training epochs')\n",
        "    parser.add_argument('--batch-size', type=int, default=16, help='total batch size for all GPUs, -1 for autobatch')\n",
        "    parser.add_argument('--imgsz', '--img', '--img-size', type=int, default=640, help='train, val image size (pixels)')\n",
        "    parser.add_argument('--rect', action='store_true', help='rectangular training')\n",
        "    parser.add_argument('--resume', nargs='?', const=True, default=False, help='resume most recent training')\n",
        "    parser.add_argument('--nosave', action='store_true', help='only save final checkpoint')\n",
        "    parser.add_argument('--noval', action='store_true', help='only validate final epoch')\n",
        "    parser.add_argument('--noautoanchor', action='store_true', help='disable AutoAnchor')\n",
        "    parser.add_argument('--noplots', action='store_true', help='save no plot files')\n",
        "    parser.add_argument('--evolve', type=int, nargs='?', const=300, help='evolve hyperparameters for x generations')\n",
        "    parser.add_argument('--bucket', type=str, default='', help='gsutil bucket')\n",
        "    parser.add_argument('--cache', type=str, nargs='?', const='ram', help='--cache images in \"ram\" (default) or \"disk\"')\n",
        "    parser.add_argument('--image-weights', action='store_true', help='use weighted image selection for training')\n",
        "    parser.add_argument('--device', default='', help='cuda device, i.e. 0 or 0,1,2,3 or cpu')\n",
        "    parser.add_argument('--multi-scale', action='store_true', help='vary img-size +/- 50%%')\n",
        "    parser.add_argument('--single-cls', action='store_true', help='train multi-class data as single-class')\n",
        "    parser.add_argument('--optimizer', type=str, choices=['SGD', 'Adam', 'AdamW'], default='SGD', help='optimizer')\n",
        "    parser.add_argument('--sync-bn', action='store_true', help='use SyncBatchNorm, only available in DDP mode')\n",
        "    parser.add_argument('--workers', type=int, default=8, help='max dataloader workers (per RANK in DDP mode)')\n",
        "    parser.add_argument('--project', default=ROOT / 'runs/train', help='save to project/name')\n",
        "    parser.add_argument('--name', default='exp', help='save to project/name')\n",
        "    parser.add_argument('--exist-ok', action='store_true', help='existing project/name ok, do not increment')\n",
        "    parser.add_argument('--quad', action='store_true', help='quad dataloader')\n",
        "    parser.add_argument('--cos-lr', action='store_true', help='cosine LR scheduler')\n",
        "    parser.add_argument('--label-smoothing', type=float, default=0.0, help='Label smoothing epsilon')\n",
        "    parser.add_argument('--patience', type=int, default=100, help='EarlyStopping patience (epochs without improvement)')\n",
        "    parser.add_argument('--freeze', nargs='+', type=int, default=[0], help='Freeze layers: backbone=10, first3=0 1 2')\n",
        "    parser.add_argument('--save-period', type=int, default=-1, help='Save checkpoint every x epochs (disabled if < 1)')\n",
        "    parser.add_argument('--seed', type=int, default=0, help='Global training seed')\n",
        "    parser.add_argument('--local_rank', type=int, default=-1, help='Automatic DDP Multi-GPU argument, do not modify')\n",
        "\n",
        "    # Logger arguments\n",
        "    parser.add_argument('--entity', default=None, help='Entity')\n",
        "    parser.add_argument('--upload_dataset', nargs='?', const=True, default=False, help='Upload data, \"val\" option')\n",
        "    parser.add_argument('--bbox_interval', type=int, default=-1, help='Set bounding-box image logging interval')\n",
        "    parser.add_argument('--artifact_alias', type=str, default='latest', help='Version of dataset artifact to use')\n",
        "\n",
        "    return parser.parse_known_args()[0] if known else parser.parse_args()\n",
        "\n",
        "\n",
        "def main(opt, callbacks=Callbacks()):\n",
        "    # Checks\n",
        "    if RANK in {-1, 0}:\n",
        "        print_args(vars(opt))\n",
        "        check_git_status()\n",
        "        check_requirements()\n",
        "\n",
        "    # Resume (from specified or most recent last.pt)\n",
        "    if opt.resume and not check_comet_resume(opt) and not opt.evolve:\n",
        "        last = Path(check_file(opt.resume) if isinstance(opt.resume, str) else get_latest_run())\n",
        "        opt_yaml = last.parent.parent / 'opt.yaml'  # train options yaml\n",
        "        opt_data = opt.data  # original dataset\n",
        "        if opt_yaml.is_file():\n",
        "            with open(opt_yaml, errors='ignore') as f:\n",
        "                d = yaml.safe_load(f)\n",
        "        else:\n",
        "            d = torch.load(last, map_location='cpu')['opt']\n",
        "        opt = argparse.Namespace(**d)  # replace\n",
        "        opt.cfg, opt.weights, opt.resume = '', str(last), True  # reinstate\n",
        "        if is_url(opt_data):\n",
        "            opt.data = check_file(opt_data)  # avoid HUB resume auth timeout\n",
        "    else:\n",
        "        opt.data, opt.cfg, opt.hyp, opt.weights, opt.project = \\\n",
        "            check_file(opt.data), check_yaml(opt.cfg), check_yaml(opt.hyp), str(opt.weights), str(opt.project)  # checks\n",
        "        assert len(opt.cfg) or len(opt.weights), 'either --cfg or --weights must be specified'\n",
        "        if opt.evolve:\n",
        "            if opt.project == str(ROOT / 'runs/train'):  # if default project name, rename to runs/evolve\n",
        "                opt.project = str(ROOT / 'runs/evolve')\n",
        "            opt.exist_ok, opt.resume = opt.resume, False  # pass resume to exist_ok and disable resume\n",
        "        if opt.name == 'cfg':\n",
        "            opt.name = Path(opt.cfg).stem  # use model.yaml as name\n",
        "        opt.save_dir = str(increment_path(Path(opt.project) / opt.name, exist_ok=opt.exist_ok))\n",
        "\n",
        "    # DDP mode\n",
        "    device = select_device(opt.device, batch_size=opt.batch_size)\n",
        "    if LOCAL_RANK != -1:\n",
        "        msg = 'is not compatible with YOLOv5 Multi-GPU DDP training'\n",
        "        assert not opt.image_weights, f'--image-weights {msg}'\n",
        "        assert not opt.evolve, f'--evolve {msg}'\n",
        "        assert opt.batch_size != -1, f'AutoBatch with --batch-size -1 {msg}, please pass a valid --batch-size'\n",
        "        assert opt.batch_size % WORLD_SIZE == 0, f'--batch-size {opt.batch_size} must be multiple of WORLD_SIZE'\n",
        "        assert torch.cuda.device_count() > LOCAL_RANK, 'insufficient CUDA devices for DDP command'\n",
        "        torch.cuda.set_device(LOCAL_RANK)\n",
        "        device = torch.device('cuda', LOCAL_RANK)\n",
        "        dist.init_process_group(backend=\"nccl\" if dist.is_nccl_available() else \"gloo\")\n",
        "\n",
        "    # Train\n",
        "    if not opt.evolve:\n",
        "        train(opt.hyp, opt, device, callbacks)\n",
        "\n",
        "    # Evolve hyperparameters (optional)\n",
        "    else:\n",
        "        # Hyperparameter evolution metadata (mutation scale 0-1, lower_limit, upper_limit)\n",
        "        meta = {\n",
        "            'lr0': (1, 1e-5, 1e-1),  # initial learning rate (SGD=1E-2, Adam=1E-3)\n",
        "            'lrf': (1, 0.01, 1.0),  # final OneCycleLR learning rate (lr0 * lrf)\n",
        "            'momentum': (0.3, 0.6, 0.98),  # SGD momentum/Adam beta1\n",
        "            'weight_decay': (1, 0.0, 0.001),  # optimizer weight decay\n",
        "            'warmup_epochs': (1, 0.0, 5.0),  # warmup epochs (fractions ok)\n",
        "            'warmup_momentum': (1, 0.0, 0.95),  # warmup initial momentum\n",
        "            'warmup_bias_lr': (1, 0.0, 0.2),  # warmup initial bias lr\n",
        "            'box': (1, 0.02, 0.2),  # box loss gain\n",
        "            'cls': (1, 0.2, 4.0),  # cls loss gain\n",
        "            'cls_pw': (1, 0.5, 2.0),  # cls BCELoss positive_weight\n",
        "            'obj': (1, 0.2, 4.0),  # obj loss gain (scale with pixels)\n",
        "            'obj_pw': (1, 0.5, 2.0),  # obj BCELoss positive_weight\n",
        "            'iou_t': (0, 0.1, 0.7),  # IoU training threshold\n",
        "            'anchor_t': (1, 2.0, 8.0),  # anchor-multiple threshold\n",
        "            'anchors': (2, 2.0, 10.0),  # anchors per output grid (0 to ignore)\n",
        "            'fl_gamma': (0, 0.0, 2.0),  # focal loss gamma (efficientDet default gamma=1.5)\n",
        "            'hsv_h': (1, 0.0, 0.1),  # image HSV-Hue augmentation (fraction)\n",
        "            'hsv_s': (1, 0.0, 0.9),  # image HSV-Saturation augmentation (fraction)\n",
        "            'hsv_v': (1, 0.0, 0.9),  # image HSV-Value augmentation (fraction)\n",
        "            'degrees': (1, 0.0, 45.0),  # image rotation (+/- deg)\n",
        "            'translate': (1, 0.0, 0.9),  # image translation (+/- fraction)\n",
        "            'scale': (1, 0.0, 0.9),  # image scale (+/- gain)\n",
        "            'shear': (1, 0.0, 10.0),  # image shear (+/- deg)\n",
        "            'perspective': (0, 0.0, 0.001),  # image perspective (+/- fraction), range 0-0.001\n",
        "            'flipud': (1, 0.0, 1.0),  # image flip up-down (probability)\n",
        "            'fliplr': (0, 0.0, 1.0),  # image flip left-right (probability)\n",
        "            'mosaic': (1, 0.0, 1.0),  # image mixup (probability)\n",
        "            'mixup': (1, 0.0, 1.0),  # image mixup (probability)\n",
        "            'copy_paste': (1, 0.0, 1.0)}  # segment copy-paste (probability)\n",
        "\n",
        "        with open(opt.hyp, errors='ignore') as f:\n",
        "            hyp = yaml.safe_load(f)  # load hyps dict\n",
        "            if 'anchors' not in hyp:  # anchors commented in hyp.yaml\n",
        "                hyp['anchors'] = 3\n",
        "        if opt.noautoanchor:\n",
        "            del hyp['anchors'], meta['anchors']\n",
        "        opt.noval, opt.nosave, save_dir = True, True, Path(opt.save_dir)  # only val/save final epoch\n",
        "        # ei = [isinstance(x, (int, float)) for x in hyp.values()]  # evolvable indices\n",
        "        evolve_yaml, evolve_csv = save_dir / 'hyp_evolve.yaml', save_dir / 'evolve.csv'\n",
        "        if opt.bucket:\n",
        "            os.system(f'gsutil cp gs://{opt.bucket}/evolve.csv {evolve_csv}')  # download evolve.csv if exists\n",
        "\n",
        "        for _ in range(opt.evolve):  # generations to evolve\n",
        "            if evolve_csv.exists():  # if evolve.csv exists: select best hyps and mutate\n",
        "                # Select parent(s)\n",
        "                parent = 'single'  # parent selection method: 'single' or 'weighted'\n",
        "                x = np.loadtxt(evolve_csv, ndmin=2, delimiter=',', skiprows=1)\n",
        "                n = min(5, len(x))  # number of previous results to consider\n",
        "                x = x[np.argsort(-fitness(x))][:n]  # top n mutations\n",
        "                w = fitness(x) - fitness(x).min() + 1E-6  # weights (sum > 0)\n",
        "                if parent == 'single' or len(x) == 1:\n",
        "                    # x = x[random.randint(0, n - 1)]  # random selection\n",
        "                    x = x[random.choices(range(n), weights=w)[0]]  # weighted selection\n",
        "                elif parent == 'weighted':\n",
        "                    x = (x * w.reshape(n, 1)).sum(0) / w.sum()  # weighted combination\n",
        "\n",
        "                # Mutate\n",
        "                mp, s = 0.8, 0.2  # mutation probability, sigma\n",
        "                npr = np.random\n",
        "                npr.seed(int(time.time()))\n",
        "                g = np.array([meta[k][0] for k in hyp.keys()])  # gains 0-1\n",
        "                ng = len(meta)\n",
        "                v = np.ones(ng)\n",
        "                while all(v == 1):  # mutate until a change occurs (prevent duplicates)\n",
        "                    v = (g * (npr.random(ng) < mp) * npr.randn(ng) * npr.random() * s + 1).clip(0.3, 3.0)\n",
        "                for i, k in enumerate(hyp.keys()):  # plt.hist(v.ravel(), 300)\n",
        "                    hyp[k] = float(x[i + 7] * v[i])  # mutate\n",
        "\n",
        "            # Constrain to limits\n",
        "            for k, v in meta.items():\n",
        "                hyp[k] = max(hyp[k], v[1])  # lower limit\n",
        "                hyp[k] = min(hyp[k], v[2])  # upper limit\n",
        "                hyp[k] = round(hyp[k], 5)  # significant digits\n",
        "\n",
        "            # Train mutation\n",
        "            results = train(hyp.copy(), opt, device, callbacks)\n",
        "            callbacks = Callbacks()\n",
        "            # Write mutation results\n",
        "            keys = ('metrics/precision', 'metrics/recall', 'metrics/mAP_0.5', 'metrics/mAP_0.5:0.95', 'val/box_loss',\n",
        "                    'val/obj_loss', 'val/cls_loss')\n",
        "            print_mutation(keys, results, hyp.copy(), save_dir, opt.bucket)\n",
        "\n",
        "        # Plot results\n",
        "        plot_evolve(evolve_csv)\n",
        "        LOGGER.info(f'Hyperparameter evolution finished {opt.evolve} generations, '\n",
        "                    f\"Results saved to {colorstr('bold', save_dir)}, \"\n",
        "                    f'Usage example: $ python train.py --hyp {evolve_yaml}')\n",
        "\n",
        "\n",
        "def run(**kwargs):\n",
        "    # Usage: import train; train.run(data='coco128.yaml', imgsz=320, weights='yolov5m.pt')\n",
        "    opt = parse_opt(True)\n",
        "    for k, v in kwargs.items():\n",
        "        setattr(opt, k, v)\n",
        "    main(opt)\n",
        "    return opt\n",
        "\n",
        "\n",
        "if __name__ == \"__main__\":\n",
        "    opt = parse_opt()\n",
        "    main(opt)\n",
        "\n",
        "\"\"\"\n",
        "\n",
        "path_w = '/content/yolov5/train.py'\n",
        "\n",
        "with open(path_w, mode='w') as f:\n",
        "    f.write(text)\n",
        "\n",
        "print(text)"
      ],
      "metadata": {
        "id": "YLybIHpDi6xe"
      },
      "execution_count": null,
      "outputs": []
    },
    {
      "cell_type": "code",
      "source": [
        "# train yolov5s on Aquarium object detection data for 100 epochs [aroung 1000 epochs for better training and result]\n",
        "# NOTE: All the images are already pre-processed to 416 x 416 size.\n",
        "# We will be training for 100 epoch (increase it for better result) with batch size of 80\n",
        "# data.yaml also contains the information about location of Train and Validation Data. That's how you get the train data.\n",
        "# the training also requires the configuration of neural network, which is in custom_yolov5s.yaml\n",
        "# weights will be by-default stored at /content/yolov5/runs/exp2/weights/best.pt\n",
        "# time its performance\n",
        "\n",
        "%%time\n",
        "%cd /content/yolov5/\n",
        "!python train.py --img 416 --batch 80 --epochs 100 --data './data.yaml' --cfg ./models/custom_yolov5s.yaml --weights /content/yolov5/yolov5s.pt\n",
        "\n",
        "# ※3時間ぐらいかかる"
      ],
      "metadata": {
        "id": "6ruAlkMhFRNc",
        "outputId": "8dd243b1-f221-4f28-d45d-d82692b65601",
        "colab": {
          "base_uri": "https://localhost:8080/"
        }
      },
      "execution_count": 43,
      "outputs": [
        {
          "output_type": "stream",
          "name": "stdout",
          "text": [
            "/content\n",
            "\u001b[34m\u001b[1mtrain: \u001b[0mweights=/content/yolov5/yolov5s.pt, cfg=./models/custom_yolov5s.yaml, data=./data.yaml, hyp=data/hyps/hyp.scratch-low.yaml, epochs=100, batch_size=80, imgsz=416, rect=False, resume=False, nosave=False, noval=False, noautoanchor=False, noplots=False, evolve=None, bucket=, cache=None, image_weights=False, device=, multi_scale=False, single_cls=False, optimizer=SGD, sync_bn=False, workers=8, project=runs/train, name=exp, exist_ok=False, quad=False, cos_lr=False, label_smoothing=0.0, patience=100, freeze=[0], save_period=-1, seed=0, local_rank=-1, entity=None, upload_dataset=False, bbox_interval=-1, artifact_alias=latest\n",
            "\u001b[34m\u001b[1mgithub: \u001b[0mup to date with https://github.com/ultralytics/yolov5 ✅\n",
            "YOLOv5 🚀 v6.2-198-gacff977 Python-3.7.15 torch-1.12.1+cu113 CUDA:0 (Tesla T4, 15110MiB)\n",
            "\n",
            "\u001b[34m\u001b[1mhyperparameters: \u001b[0mlr0=0.01, lrf=0.01, momentum=0.937, weight_decay=0.0005, warmup_epochs=3.0, warmup_momentum=0.8, warmup_bias_lr=0.1, box=0.05, cls=0.5, cls_pw=1.0, obj=1.0, obj_pw=1.0, iou_t=0.2, anchor_t=4.0, fl_gamma=0.0, hsv_h=0.015, hsv_s=0.7, hsv_v=0.4, degrees=0.0, translate=0.1, scale=0.5, shear=0.0, perspective=0.0, flipud=0.0, fliplr=0.5, mosaic=1.0, mixup=0.0, copy_paste=0.0\n",
            "\u001b[34m\u001b[1mClearML: \u001b[0mrun 'pip install clearml' to automatically track, visualize and remotely train YOLOv5 🚀 in ClearML\n",
            "\u001b[34m\u001b[1mComet: \u001b[0mrun 'pip install comet_ml' to automatically track and visualize YOLOv5 🚀 runs in Comet\n",
            "\u001b[34m\u001b[1mTensorBoard: \u001b[0mStart with 'tensorboard --logdir runs/train', view at http://localhost:6006/\n",
            "\n",
            "                 from  n    params  module                                  arguments                     \n",
            "  0                -1  1      3520  models.common.Focus                     [3, 32, 3]                    \n",
            "  1                -1  1     18560  models.common.Conv                      [32, 64, 3, 2]                \n",
            "  2                -1  1     19904  models.common.BottleneckCSP             [64, 64, 1]                   \n",
            "  3                -1  1     73984  models.common.Conv                      [64, 128, 3, 2]               \n",
            "  4                -1  3    161152  models.common.BottleneckCSP             [128, 128, 3]                 \n",
            "  5                -1  1    295424  models.common.Conv                      [128, 256, 3, 2]              \n",
            "  6                -1  3    641792  models.common.BottleneckCSP             [256, 256, 3]                 \n",
            "  7                -1  1   1180672  models.common.Conv                      [256, 512, 3, 2]              \n",
            "  8                -1  1    656896  models.common.SPP                       [512, 512, [5, 9, 13]]        \n",
            "  9                -1  1   1248768  models.common.BottleneckCSP             [512, 512, 1, False]          \n",
            " 10                -1  1    131584  models.common.Conv                      [512, 256, 1, 1]              \n",
            " 11                -1  1         0  torch.nn.modules.upsampling.Upsample    [None, 2, 'nearest']          \n",
            " 12           [-1, 6]  1         0  models.common.Concat                    [1]                           \n",
            " 13                -1  1    378624  models.common.BottleneckCSP             [512, 256, 1, False]          \n",
            " 14                -1  1     33024  models.common.Conv                      [256, 128, 1, 1]              \n",
            " 15                -1  1         0  torch.nn.modules.upsampling.Upsample    [None, 2, 'nearest']          \n",
            " 16           [-1, 4]  1         0  models.common.Concat                    [1]                           \n",
            " 17                -1  1     95104  models.common.BottleneckCSP             [256, 128, 1, False]          \n",
            " 18                -1  1    147712  models.common.Conv                      [128, 128, 3, 2]              \n",
            " 19          [-1, 14]  1         0  models.common.Concat                    [1]                           \n",
            " 20                -1  1    313088  models.common.BottleneckCSP             [256, 256, 1, False]          \n",
            " 21                -1  1    590336  models.common.Conv                      [256, 256, 3, 2]              \n",
            " 22          [-1, 10]  1         0  models.common.Concat                    [1]                           \n",
            " 23                -1  1   1248768  models.common.BottleneckCSP             [512, 512, 1, False]          \n",
            " 24      [17, 20, 23]  1     21576  models.yolo.Detect                      [3, [[10, 13, 16, 30, 33, 23], [30, 61, 62, 45, 59, 119], [116, 90, 156, 198, 373, 326]], [128, 256, 512]]\n",
            "custom_YOLOv5s summary: 233 layers, 7260488 parameters, 7260488 gradients\n",
            "\n",
            "Traceback (most recent call last):\n",
            "  File \"train.py\", line 626, in <module>\n",
            "    main(opt)\n",
            "  File \"train.py\", line 520, in main\n",
            "    train(opt.hyp, opt, device, callbacks)\n",
            "  File \"train.py\", line 120, in train\n",
            "    model = Model(cfg or ckpt['model'].yaml, ch=3, nc=nc, anchors=hyp.get('anchors')).to(device)  # create\n",
            "  File \"/usr/local/lib/python3.7/dist-packages/torch/nn/modules/module.py\", line 927, in to\n",
            "    return self._apply(convert)\n",
            "  File \"/content/yolov5/models/yolo.py\", line 155, in _apply\n",
            "    self = super()._apply(fn)\n",
            "  File \"/usr/local/lib/python3.7/dist-packages/torch/nn/modules/module.py\", line 579, in _apply\n",
            "    module._apply(fn)\n",
            "  File \"/usr/local/lib/python3.7/dist-packages/torch/nn/modules/module.py\", line 579, in _apply\n",
            "    module._apply(fn)\n",
            "  File \"/usr/local/lib/python3.7/dist-packages/torch/nn/modules/module.py\", line 579, in _apply\n",
            "    module._apply(fn)\n",
            "  [Previous line repeated 1 more time]\n",
            "  File \"/usr/local/lib/python3.7/dist-packages/torch/nn/modules/module.py\", line 602, in _apply\n",
            "    param_applied = fn(param)\n",
            "  File \"/usr/local/lib/python3.7/dist-packages/torch/nn/modules/module.py\", line 925, in convert\n",
            "    return t.to(device, dtype if t.is_floating_point() or t.is_complex() else None, non_blocking)\n",
            "KeyboardInterrupt\n",
            "CPU times: user 82.2 ms, sys: 15.2 ms, total: 97.4 ms\n",
            "Wall time: 8.69 s\n"
          ]
        }
      ]
    },
    {
      "cell_type": "code",
      "source": [
        "########################\n",
        "# 一時フォルダに保存されたweightを退避させる\n",
        "########################\n",
        "shutil.copy(\"/content/yolov5/runs/train/exp/weights/best.pt\", \"/content/drive/MyDrive/Deep_learning/YOLOv5/helmet.pt\")"
      ],
      "metadata": {
        "colab": {
          "base_uri": "https://localhost:8080/",
          "height": 35
        },
        "id": "x_0sRpwcFX2Y",
        "outputId": "6bc80bf8-28b8-4fdb-e509-8432a6ddbaac"
      },
      "execution_count": null,
      "outputs": [
        {
          "output_type": "execute_result",
          "data": {
            "text/plain": [
              "'/content/drive/MyDrive/Deep_learning/YOLOv5/helmet.pt'"
            ],
            "application/vnd.google.colaboratory.intrinsic+json": {
              "type": "string"
            }
          },
          "metadata": {},
          "execution_count": 23
        }
      ]
    },
    {
      "cell_type": "code",
      "source": [
        "#Tensorboardで結果を確認\n",
        "\n",
        "# Start tensorboard\n",
        "# Launch after you have started training to all the graphs needed for inspection\n",
        "# logs save in the folder \"runs\"\n",
        "%load_ext tensorboard\n",
        "%tensorboard --logdir /content/yolov5/runs"
      ],
      "metadata": {
        "id": "gtGgaXOYGNcP"
      },
      "execution_count": null,
      "outputs": []
    },
    {
      "cell_type": "code",
      "source": [
        "# 学習したデータを確認\n",
        "# first, display our ground truth data\n",
        "# The ground truth [Train data] is available in jpg file at location /content/yolov5/runs/train/exp2/test_batch0_labels.jpg \n",
        "print(\"GROUND TRUTH TRAINING DATA:\")\n",
        "Image(filename='/content/yolov5/runs/train/exp/train_batch0.jpg', width=900)"
      ],
      "metadata": {
        "id": "KYDTUKsAGXbz"
      },
      "execution_count": null,
      "outputs": []
    },
    {
      "cell_type": "code",
      "source": [
        "!ls"
      ],
      "metadata": {
        "colab": {
          "base_uri": "https://localhost:8080/"
        },
        "id": "-KdQmuL1W2bV",
        "outputId": "e6c34439-fe2f-4aeb-c0b5-f6a35828933e"
      },
      "execution_count": null,
      "outputs": [
        {
          "output_type": "stream",
          "name": "stdout",
          "text": [
            "benchmarks.py\t detect.py   __pycache__\t  runs\t     train.py\n",
            "classify\t export.py   README.dataset.txt   segment    tutorial.ipynb\n",
            "CONTRIBUTING.md  hubconf.py  README.md\t\t  setup.cfg  utils\n",
            "data\t\t LICENSE     README.roboflow.txt  test\t     val.py\n",
            "data.yaml\t models      requirements.txt\t  train      yolov5s.pt\n"
          ]
        }
      ]
    },
    {
      "cell_type": "code",
      "source": [
        "#テストデータに対する予測結果を確認\n",
        "#display inference on ALL test images\n",
        "#this looks much better with longer training above\n",
        "\n",
        "import glob\n",
        "from IPython.display import Image, display\n",
        "\n",
        "for imageName in glob.glob('/content/yolov5/runs/detect/exp2/*.jpg'): #assuming JPG\n",
        "    display(Image(filename=imageName))\n",
        "    print(\"\\n\")\n",
        "\n",
        "glob.glob('/content/yolov5/runs/detect/exp1/*')"
      ],
      "metadata": {
        "id": "-pKLqjqfGgV5",
        "colab": {
          "base_uri": "https://localhost:8080/"
        },
        "outputId": "98cbb6d8-5914-4fac-e324-ac0cfa2daa02"
      },
      "execution_count": null,
      "outputs": [
        {
          "output_type": "execute_result",
          "data": {
            "text/plain": [
              "[]"
            ]
          },
          "metadata": {},
          "execution_count": 32
        }
      ]
    },
    {
      "cell_type": "code",
      "source": [
        "import os \n",
        "import shutil\n",
        "\n",
        "test_folder_path = \"/content/test_imgs\"\n",
        "num_testimg = 5\n",
        "\n",
        "if os.path.exists(test_folder_path):\n",
        "    shutil.rmtree(test_folder_path)\n",
        "os.makedirs(test_folder_path)\n",
        "\n",
        "for i in range(num_testimg):\n",
        "    foldername = \"/content/yolov5/test/images\"\n",
        "    basename = os.path.basename(os.listdir(\"/content/yolov5/test/images\")[i])\n",
        "    imgpath = os.path.join(foldername, basename)\n",
        "    print(imgpath)\n",
        "    shutil.copy(imgpath, test_folder_path)\n",
        "\n",
        "glob.glob(test_folder_path)"
      ],
      "metadata": {
        "colab": {
          "base_uri": "https://localhost:8080/"
        },
        "id": "XOUu4DONhhId",
        "outputId": "527baa73-fa36-45fa-fe8a-cad5ed7f6950"
      },
      "execution_count": null,
      "outputs": [
        {
          "output_type": "stream",
          "name": "stdout",
          "text": [
            "/content/yolov5/test/images/005843_jpg.rf.b658ee3355fb3e58ac05579309916005.jpg\n",
            "/content/yolov5/test/images/006978_jpg.rf.797c1b80e617141a9e41f6e6f8fb069d.jpg\n",
            "/content/yolov5/test/images/006260_jpg.rf.db929f2e77b8010bee8262b97b05ba22.jpg\n",
            "/content/yolov5/test/images/006228_jpg.rf.8d516350ac548ca7cbd9c3033bfa13a1.jpg\n",
            "/content/yolov5/test/images/006030_jpg.rf.9d941d5566efa8625dfa80d2a78e7e12.jpg\n"
          ]
        },
        {
          "output_type": "execute_result",
          "data": {
            "text/plain": [
              "['/content/test_imgs']"
            ]
          },
          "metadata": {},
          "execution_count": 50
        }
      ]
    },
    {
      "cell_type": "code",
      "source": [
        "# もともとのモデルによる判定\n",
        "!python detect.py --source $test_folder_path --conf 0.5 --weights yolov5s.pt\n"
      ],
      "metadata": {
        "id": "_VqvXI8alvDr"
      },
      "execution_count": null,
      "outputs": []
    },
    {
      "cell_type": "code",
      "source": [
        "# 新規モデルによる判定（１エポックでは全く検出されず...)\n",
        "!python detect.py --source $test_folder_path --conf 0.5 --runs/train/exp/weights/best.pt\n"
      ],
      "metadata": {
        "colab": {
          "base_uri": "https://localhost:8080/"
        },
        "id": "ezM8mheXbrNk",
        "outputId": "4ea64fe2-38b5-4ea5-f615-b8d7abffd63a"
      },
      "execution_count": null,
      "outputs": [
        {
          "output_type": "stream",
          "name": "stdout",
          "text": [
            "\u001b[34m\u001b[1mdetect: \u001b[0mweights=['runs/train/exp/weights/best.pt'], source=/content/test_imgs, data=data/coco128.yaml, imgsz=[640, 640], conf_thres=0.01, iou_thres=0.45, max_det=1000, device=, view_img=False, save_txt=False, save_conf=False, save_crop=False, nosave=False, classes=None, agnostic_nms=False, augment=False, visualize=False, update=False, project=runs/detect, name=exp, exist_ok=False, line_thickness=3, hide_labels=False, hide_conf=False, half=False, dnn=False, vid_stride=1\n",
            "YOLOv5 🚀 v6.2-196-ge42c89d Python-3.7.14 torch-1.12.1+cu113 CUDA:0 (Tesla T4, 15110MiB)\n",
            "\n",
            "Fusing layers... \n",
            "custom_YOLOv5s summary: 182 layers, 7251912 parameters, 0 gradients\n",
            "image 1/5 /content/test_imgs/005843_jpg.rf.b658ee3355fb3e58ac05579309916005.jpg: 448x640 (no detections), 16.5ms\n",
            "image 2/5 /content/test_imgs/006030_jpg.rf.9d941d5566efa8625dfa80d2a78e7e12.jpg: 448x640 (no detections), 10.7ms\n",
            "image 3/5 /content/test_imgs/006228_jpg.rf.8d516350ac548ca7cbd9c3033bfa13a1.jpg: 480x640 (no detections), 12.9ms\n",
            "image 4/5 /content/test_imgs/006260_jpg.rf.db929f2e77b8010bee8262b97b05ba22.jpg: 480x640 (no detections), 11.0ms\n",
            "image 5/5 /content/test_imgs/006978_jpg.rf.797c1b80e617141a9e41f6e6f8fb069d.jpg: 416x640 (no detections), 14.6ms\n",
            "Speed: 0.5ms pre-process, 13.1ms inference, 0.6ms NMS per image at shape (1, 3, 640, 640)\n",
            "Results saved to \u001b[1mruns/detect/exp5\u001b[0m\n"
          ]
        }
      ]
    },
    {
      "cell_type": "code",
      "source": [
        "!python detect.py --source $test_folder_path --conf 0.5 --weights runs/train/exp/weights/best.pt"
      ],
      "metadata": {
        "id": "NRNaeyqtlnQe"
      },
      "execution_count": null,
      "outputs": []
    },
    {
      "cell_type": "code",
      "source": [],
      "metadata": {
        "id": "ulDK5t4hbrcv"
      },
      "execution_count": null,
      "outputs": []
    },
    {
      "cell_type": "code",
      "source": [
        "%cp /content/yolov5/runs/train/exp/weights/best.pt /content/drive/My\\ Drive/YOLOv5\n"
      ],
      "metadata": {
        "id": "8ZU08_ewU-kZ"
      },
      "execution_count": null,
      "outputs": []
    }
  ]
}